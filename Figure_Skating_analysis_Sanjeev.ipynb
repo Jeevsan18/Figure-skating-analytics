{
 "cells": [
  {
   "cell_type": "markdown",
   "id": "7531f9f7",
   "metadata": {},
   "source": [
    "# Assignment 6"
   ]
  },
  {
   "cell_type": "markdown",
   "id": "75cc7cb3",
   "metadata": {},
   "source": [
    "# Figure skating analytics"
   ]
  },
  {
   "cell_type": "code",
   "execution_count": 1,
   "id": "f6d42303",
   "metadata": {},
   "outputs": [],
   "source": [
    "class ProbDist(dict):\n",
    "    \"\"\"A Probability Distribution; an {outcome: probability} mapping.\"\"\"\n",
    "    def __init__(self, mapping=(), **kwargs):\n",
    "        self.update(mapping, **kwargs)\n",
    "        # Make probabilities sum to 1.0; assert no negative probabilities\n",
    "        total = sum(self.values())\n",
    "        for outcome in self:\n",
    "            self[outcome] = self[outcome] / total  ## dict[keys] = dict[keys]/total\n",
    "            assert self[outcome] >= 0"
   ]
  },
  {
   "cell_type": "code",
   "execution_count": 2,
   "id": "bb1c4e73",
   "metadata": {},
   "outputs": [],
   "source": [
    "def p(event, space): \n",
    "    \"\"\"The probability of an event, given a sample space of equiprobable outcomes. \n",
    "    event: a collection of outcomes, or a predicate that is true of outcomes in the event. \n",
    "    space: a set of outcomes or a probability distribution of {outcome: frequency} pairs.\"\"\"\n",
    "    # branch on the type of the first argument   \n",
    "    \n",
    "    if is_predicate(event):  ## checks if the event is a predicate. If is a predicate, then \n",
    "        # transform the mapping (untangible) 'event' into the collection (tangible) 'event'\n",
    "        event = such_that(event, space)               \n",
    "        \n",
    "    if isinstance(space, ProbDist):\n",
    "        # if space is a dictionary of distinct probabilities, where each item does not count as the same amount\n",
    "        return sum(space[o] for o in space if o in event)\n",
    "    \n",
    "    else:\n",
    "        # space is not a dictionary but a collection, let's fall back to our original division\n",
    "        return Fraction(len(event & space), len(space))\n",
    "\n",
    "is_predicate = callable\n",
    "\n",
    "\n",
    "def such_that(predicate, space): \n",
    "    \"\"\"The outcomes in the sample pace for which the predicate is true.\n",
    "    If space is a set, return a subset {outcome,...} with outcomes where predicate(element) is true;\n",
    "    if space is a ProbDist, return a ProbDist {outcome: frequency,...} with outcomes where predicate(element) is true.\"\"\"\n",
    "    if isinstance(space, ProbDist):\n",
    "        return ProbDist({o:space[o] for o in space if predicate(o)}) ## if the event is in the space, probDist(name=valuve) \n",
    "    else:\n",
    "        return {o for o in space if predicate(o)}"
   ]
  },
  {
   "cell_type": "markdown",
   "id": "ea685171",
   "metadata": {},
   "source": [
    "1.what is the Probability Distribution detailing the chances of each one of the following countries: Russia, US, China, Japan, Canada, and Italy to win the Olympics men's event? The women's event?"
   ]
  },
  {
   "cell_type": "code",
   "execution_count": 5,
   "id": "7604f8c5",
   "metadata": {},
   "outputs": [
    {
     "data": {
      "text/plain": [
       "{'ROC_Kamila_Valieva': 0.1139903148332992,\n",
       " 'ROC_Anna_Scherbakova': 0.10226960679618,\n",
       " 'JP_Kaori_Sakamoto': 0.09573582421989078,\n",
       " 'JP_Mai_Mihara': 0.09342132218652884,\n",
       " 'US_Alysa_Liu': 0.09110682015316687,\n",
       " 'US_Isabeau_Levito': 0.08949843738422043,\n",
       " 'CN_Yi_Zhu': 0.07464378026614596,\n",
       " 'CN_Shan_Ashley_Lin': 0.06880304067159788,\n",
       " 'CA_Madeline_Schizas': 0.08186188830239341,\n",
       " 'CA_Kaiya_Ruiter': 0.07791720969562774,\n",
       " 'IT_Ginevra_Negrello': 0.06084830204469474,\n",
       " 'IT_Roberta_Rodeghiero': 0.049903453446254305}"
      ]
     },
     "execution_count": 5,
     "metadata": {},
     "output_type": "execute_result"
    }
   ],
   "source": [
    "Women_FS = ProbDist(ROC_Kamila_Valieva =261.52, ROC_Anna_Scherbakova=234.63, JP_Kaori_Sakamoto= 219.64, JP_Mai_Mihara=214.33, US_Alysa_Liu = 209.02, US_Isabeau_Levito = 205.33, CN_Yi_Zhu= 171.25, CN_Shan_Ashley_Lin= 157.85, CA_Madeline_Schizas= 187.81, CA_Kaiya_Ruiter= 178.76, IT_Ginevra_Negrello = 139.60, IT_Roberta_Rodeghiero = 114.49)\n",
    "Women_FS"
   ]
  },
  {
   "cell_type": "code",
   "execution_count": 6,
   "id": "dfbfb724",
   "metadata": {},
   "outputs": [
    {
     "data": {
      "text/plain": [
       "{'US_Nathan_Chen': 0.09398738923194291,\n",
       " 'US_Vincent_Zhou': 0.09134004081872184,\n",
       " 'JP_Yuma_Kagiyama': 0.09201165876591832,\n",
       " 'JP_Shoma_Uno': 0.09142480813244566,\n",
       " 'ROC_Mikhail_Kolyada': 0.08641701606014567,\n",
       " 'ROC_Mark_Kondratiuk': 0.08228949993805465,\n",
       " 'IT_Daniel_Grassl': 0.08187544421332672,\n",
       " 'IT_Matteo_Rizzo': 0.08172873155495856,\n",
       " 'CN_Boyang_Jin': 0.07898683498412243,\n",
       " 'CN_Yudong_Chen': 0.06551861294592497,\n",
       " 'CA_Keegan_Messing': 0.08061371535136051,\n",
       " 'CA_Roman_Sadovsky': 0.0738062480030777}"
      ]
     },
     "execution_count": 6,
     "metadata": {},
     "output_type": "execute_result"
    }
   ],
   "source": [
    "Men_FS = ProbDist(US_Nathan_Chen= 288.28,US_Vincent_Zhou= 280.16,JP_Yuma_Kagiyama = 282.22, JP_Shoma_Uno= 280.42, ROC_Mikhail_Kolyada= 265.06, ROC_Mark_Kondratiuk= 252.40, IT_Daniel_Grassl= 251.13, IT_Matteo_Rizzo= 250.68, CN_Boyang_Jin= 242.27,CN_Yudong_Chen= 200.96, CA_Keegan_Messing= 247.26, CA_Roman_Sadovsky = 226.38)\n",
    "Men_FS"
   ]
  },
  {
   "cell_type": "markdown",
   "id": "08578b6d",
   "metadata": {},
   "source": [
    "What is the probability for the US to win both the men's and the women's event?"
   ]
  },
  {
   "cell_type": "code",
   "execution_count": 7,
   "id": "aa92cfe7",
   "metadata": {},
   "outputs": [],
   "source": [
    "def US(outcome):\n",
    "    return outcome[0:2] == 'US'\n",
    "def ROC(outcome):\n",
    "    return outcome[0:3] == 'RUS'\n",
    "def CN(outcome):\n",
    "    return outcome[0:2] == 'CN'\n",
    "def JP(outcome):\n",
    "    return outcome[0:2] == 'JP'\n",
    "def CA(outcome):\n",
    "    return outcome[0:2] == 'CA'\n",
    "def IT(outcome):\n",
    "    return outcome[0:2] == 'IT'"
   ]
  },
  {
   "cell_type": "code",
   "execution_count": 24,
   "id": "7fe5cea4",
   "metadata": {},
   "outputs": [
    {
     "data": {
      "text/plain": [
       "0.033471108233042446"
      ]
     },
     "execution_count": 24,
     "metadata": {},
     "output_type": "execute_result"
    }
   ],
   "source": [
    "## Reasoning: P(A and B) = P(A) * P(B)\n",
    "p_US_winning_both = p(US,Women_FS) * p(US,Men_FS)\n",
    "p_US_winning_both"
   ]
  },
  {
   "cell_type": "markdown",
   "id": "75359aaa",
   "metadata": {},
   "source": [
    "What is the probability for the US to win at least one of these two events?"
   ]
  },
  {
   "cell_type": "code",
   "execution_count": 25,
   "id": "ff2a9dd4",
   "metadata": {},
   "outputs": [
    {
     "data": {
      "text/plain": [
       "0.33246157935500964"
      ]
     },
     "execution_count": 25,
     "metadata": {},
     "output_type": "execute_result"
    }
   ],
   "source": [
    "## Reason: P(Winning atleast one of these) - 1- P(losing both)\n",
    "p1 = (1-p(US,Men_FS)) # Probability of US losing MFS\n",
    "p2 = (1-p(US, Women_FS))# Probability of US losing WFS\n",
    "p_us_winning_atleast_one = 1-(p1*p2)\n",
    "p_us_winning_atleast_one"
   ]
  },
  {
   "cell_type": "markdown",
   "id": "ecab2964",
   "metadata": {},
   "source": [
    "2. If the US wins the men's event, what is the probability that the US wins the women's event? If the US wins at least one of these two events, what is the probability the US wins both events (not necessarily the first one)? How about Canada, China, and the ROC? Which nations are more likely to win both events if they win one of them?"
   ]
  },
  {
   "cell_type": "code",
   "execution_count": 26,
   "id": "9f13a869",
   "metadata": {},
   "outputs": [
    {
     "data": {
      "text/plain": [
       "0.18060525753738732"
      ]
     },
     "execution_count": 26,
     "metadata": {},
     "output_type": "execute_result"
    }
   ],
   "source": [
    "#Q If the US wins the men's event, what's the probability that the US wins the women's event?\n",
    "## Probailty of US win both/ probability of men's win\n",
    "p(US, Men_FS) * p(US, Women_FS)/p(US,Men_FS)"
   ]
  },
  {
   "cell_type": "code",
   "execution_count": 27,
   "id": "e9983228",
   "metadata": {},
   "outputs": [
    {
     "data": {
      "text/plain": [
       "0.10067662043228542"
      ]
     },
     "execution_count": 27,
     "metadata": {},
     "output_type": "execute_result"
    }
   ],
   "source": [
    "#Q: If the US wins at least one of these two events, \n",
    "#what is the probability the US wins both events (not necessarily the first one)?\n",
    "p(US, Men_FS) * p(US, Women_FS) / (1-(p1*p2))"
   ]
  },
  {
   "cell_type": "code",
   "execution_count": 28,
   "id": "e2f95726",
   "metadata": {},
   "outputs": [
    {
     "data": {
      "text/plain": [
       "0.08521888968942806"
      ]
     },
     "execution_count": 28,
     "metadata": {},
     "output_type": "execute_result"
    }
   ],
   "source": [
    "## Canada\n",
    "p_canada_win_both = p(CA,Men_FS) * p(CA,Women_FS)\n",
    "p_canada_lose_Men_FS = 1-p(CA,Men_FS)\n",
    "p_canada_lose_Women_FS = 1-p(CA,Women_FS)\n",
    "p_canada_win_both_after = p_canada_win_both/(1-(p_canada_lose_Men_FS * p_canada_lose_Women_FS))\n",
    "p_canada_win_both_after"
   ]
  },
  {
   "cell_type": "code",
   "execution_count": 29,
   "id": "7aa523b7",
   "metadata": {},
   "outputs": [
    {
     "data": {
      "text/plain": [
       "0.07757122103177505"
      ]
     },
     "execution_count": 29,
     "metadata": {},
     "output_type": "execute_result"
    }
   ],
   "source": [
    "## China\n",
    "p_china_win_both = p(CN,Men_FS) * p(CN,Women_FS)\n",
    "p_china_lose_Men_FS = 1-p(CN,Men_FS)\n",
    "p_china_lose_Women_FS = 1-p(CN,Women_FS)\n",
    "p_china_win_both_after = p_china_win_both/(1-(p_china_lose_Men_FS * p_china_lose_Women_FS))\n",
    "p_china_win_both_after"
   ]
  },
  {
   "cell_type": "code",
   "execution_count": 30,
   "id": "b0f0ef45",
   "metadata": {},
   "outputs": [
    {
     "data": {
      "text/plain": [
       "0.10469539331592269"
      ]
     },
     "execution_count": 30,
     "metadata": {},
     "output_type": "execute_result"
    }
   ],
   "source": [
    "## RUSSIA\n",
    "p_ROC_win_both = p(ROC,Men_FS) * p(ROC,Women_FS)\n",
    "p_ROC_lose_Men_FS = 1-p(ROC,Men_FS)\n",
    "p_ROC_lose_Women_FS = 1-p(ROC,Women_FS)\n",
    "p_ROC_win_both_after = p_ROC_win_both/(1-(p_ROC_lose_Men_FS * p_ROC_lose_Women_FS))\n",
    "p_ROC_win_both_after"
   ]
  },
  {
   "cell_type": "markdown",
   "id": "b43e73cc",
   "metadata": {},
   "source": [
    " 3. The US wins at least one of these two events the same day that the US team of the same sex wins the hockey event gold medal. What is the probability the US wins both events assuming that the teams in contention to win the gold medal for the hockey event for both men and women are USA, China, Russia, Canada, and Japan and that men and women teams have the same probability to win hockey gold?"
   ]
  },
  {
   "cell_type": "code",
   "execution_count": 31,
   "id": "815bb9bc",
   "metadata": {},
   "outputs": [
    {
     "name": "stdout",
     "output_type": "stream",
     "text": [
      "\n",
      "The probability is\n",
      "0.1905087014191748\n"
     ]
    }
   ],
   "source": [
    "# the probability of each country to win hockey game is in uniform distribution\n",
    "p_US_man_win_hockey = 0.2\n",
    "p_US_woman_win_hockey = 0.2\n",
    "# P(us win two skate gold | us win hockey and us win at least 1 skate) =  \n",
    "#     P(us win two skate gold and us win hockey) / P(us win hockey and us win at least 1 skate)\n",
    "PB = p_US_man_win_hockey * (1 - p_US_woman_win_hockey) * p_US_man_win_hockey * (1 - p_US_woman_win_hockey) + p_US_woman_win_hockey * (1 - p_US_man_win_hockey) * p_US_woman_win_hockey * (1 - p_US_man_win_hockey) + (1 - (1 - p_US_man_win_hockey) * (1 - p_US_woman_win_hockey)) * p_US_winning_both\n",
    "PBA = 1 - (1 - p_US_man_win_hockey) * (1 - p_US_woman_win_hockey)\n",
    "Q3_prob = PBA * p_US_winning_both/ PB\n",
    "print(\"\\nThe probability is\")\n",
    "print(Q3_prob)"
   ]
  },
  {
   "cell_type": "code",
   "execution_count": null,
   "id": "a12b1ec8",
   "metadata": {},
   "outputs": [],
   "source": []
  }
 ],
 "metadata": {
  "kernelspec": {
   "display_name": "Python 3 (ipykernel)",
   "language": "python",
   "name": "python3"
  },
  "language_info": {
   "codemirror_mode": {
    "name": "ipython",
    "version": 3
   },
   "file_extension": ".py",
   "mimetype": "text/x-python",
   "name": "python",
   "nbconvert_exporter": "python",
   "pygments_lexer": "ipython3",
   "version": "3.9.7"
  }
 },
 "nbformat": 4,
 "nbformat_minor": 5
}
